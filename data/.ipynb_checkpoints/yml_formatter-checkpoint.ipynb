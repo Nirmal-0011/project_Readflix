{
 "cells": [
  {
   "cell_type": "code",
   "execution_count": 4,
   "id": "71456089-a563-4538-a9e7-f1a7451ef88d",
   "metadata": {},
   "outputs": [
    {
     "name": "stdin",
     "output_type": "stream",
     "text": [
      "Enter entity name:  movie_director\n"
     ]
    }
   ],
   "source": [
    "import re\n",
    "\n",
    "entity = input('Enter entity name: ')\n",
    "\n",
    "text  = 'version: \"3.1\"\\n'\n",
    "text += 'nlu:\\n'\n",
    "text += '  - lookup: {}\\n'.format(entity)\n",
    "text += '    examples: |\\n'\n",
    "\n",
    "\n",
    "with open(entity + '.txt', 'r', encoding='utf-8') as f:\n",
    "    for line in f:\n",
    "        bad_chars = ['','\\u008a'] # There is an invisible char here\n",
    "        regex     = '|'.join(bad_chars)\n",
    "        new_line  = re.sub(regex, '', line.strip())#.encode('utf-8').decode('utf-8')\n",
    "        text += '      - ' + new_line + '\\n'\n",
    "\n",
    "with open(entity + '.yml', 'w', encoding='utf-8') as f:\n",
    "    f.write(text)"
   ]
  }
 ],
 "metadata": {
  "kernelspec": {
   "display_name": "Python 3 (ipykernel)",
   "language": "python",
   "name": "python3"
  },
  "language_info": {
   "codemirror_mode": {
    "name": "ipython",
    "version": 3
   },
   "file_extension": ".py",
   "mimetype": "text/x-python",
   "name": "python",
   "nbconvert_exporter": "python",
   "pygments_lexer": "ipython3",
   "version": "3.11.6"
  }
 },
 "nbformat": 4,
 "nbformat_minor": 5
}
